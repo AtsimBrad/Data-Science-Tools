{
 "cells": [
  {
   "cell_type": "markdown",
   "id": "4664d16e-37af-4058-adcb-883b601be183",
   "metadata": {},
   "source": [
    "# Data Science Tools and Ecosystem"
   ]
  },
  {
   "cell_type": "markdown",
   "id": "0a947249-5e47-4f95-8647-ec55adc9ac81",
   "metadata": {},
   "source": [
    " In this Notebook, Data Science Tools and Ecosystem are surmarised"
   ]
  },
  {
   "cell_type": "markdown",
   "id": "3b79a926-2da9-4cd2-96b0-a20890a2eb6e",
   "metadata": {},
   "source": [
    "**Some of the Languages Data Scientist use are;**\n",
    "\n",
    "1- Python\n",
    "2- SQL\n",
    "3- Java\n",
    "4- Scala\n",
    "5- R"
   ]
  },
  {
   "cell_type": "markdown",
   "id": "e2bca6ed-2c3e-4746-a06a-9700087e24d8",
   "metadata": {},
   "source": [
    "Some of the commonly used libraries used by Data Scientists include:\n",
    "\n",
    "a- Pandas\n",
    "b- Numpy\n",
    "c- Matplotlip\n",
    "d- TensorFlow"
   ]
  },
  {
   "cell_type": "markdown",
   "id": "95d3cbe5-a417-4eff-8042-f9467277eeea",
   "metadata": {},
   "source": [
    "| Data Science Tools |\n",
    "|--------------------|\n",
    "| Rstudio |\n",
    "| JupiterLite |\n",
    "| IBM Watson Studio |"
   ]
  },
  {
   "cell_type": "markdown",
   "id": "154bbe51-e5b7-44cf-86ad-cb5c155765fb",
   "metadata": {},
   "source": [
    "### Below are a few examples of evaluating arithmetic expressions in Python"
   ]
  },
  {
   "cell_type": "code",
   "execution_count": 6,
   "id": "3b1f180e-9d46-4cb9-9e67-46d13f2cde28",
   "metadata": {},
   "outputs": [
    {
     "data": {
      "text/plain": [
       "17"
      ]
     },
     "execution_count": 6,
     "metadata": {},
     "output_type": "execute_result"
    }
   ],
   "source": [
    "# This a simple arithmetic expression to mutiply then add integers\n",
    "\n",
    "(3*4)+5"
   ]
  },
  {
   "cell_type": "code",
   "execution_count": 4,
   "id": "c3c34d6a-f1d5-4f00-8c23-9d4364b3a8ec",
   "metadata": {},
   "outputs": [
    {
     "data": {
      "text/plain": [
       "3.3333333333333335"
      ]
     },
     "execution_count": 4,
     "metadata": {},
     "output_type": "execute_result"
    }
   ],
   "source": [
    "# This will convert 200 minutes to hours by diving by 60\n",
    "\n",
    "200/60"
   ]
  },
  {
   "cell_type": "markdown",
   "id": "aa948664-886a-4609-822c-3f6b1e04cedb",
   "metadata": {},
   "source": [
    " **Objectives**\n",
    " \n",
    " List popular languages for Data Science\n",
    " \n",
    " - Python\n",
    " - SQL\n",
    " - Scala\n",
    " - R"
   ]
  },
  {
   "cell_type": "markdown",
   "id": "502b8956-7eac-4ecc-81fe-a078c667340b",
   "metadata": {},
   "source": [
    "Author \n",
    "## Atsimbom Nshom Bradley"
   ]
  },
  {
   "cell_type": "code",
   "execution_count": null,
   "id": "63fbf2b5-9efa-4fb6-ac0c-c08b2266dd5a",
   "metadata": {},
   "outputs": [],
   "source": []
  }
 ],
 "metadata": {
  "kernelspec": {
   "display_name": "Python 3 (ipykernel)",
   "language": "python",
   "name": "python3"
  },
  "language_info": {
   "codemirror_mode": {
    "name": "ipython",
    "version": 3
   },
   "file_extension": ".py",
   "mimetype": "text/x-python",
   "name": "python",
   "nbconvert_exporter": "python",
   "pygments_lexer": "ipython3",
   "version": "3.10.9"
  }
 },
 "nbformat": 4,
 "nbformat_minor": 5
}
